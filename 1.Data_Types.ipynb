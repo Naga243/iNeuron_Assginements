{
 "cells": [
  {
   "cell_type": "markdown",
   "id": "a71763e8",
   "metadata": {},
   "source": [
    "# STANDARD DATA TYPES"
   ]
  },
  {
   "cell_type": "markdown",
   "id": "d9626cfd",
   "metadata": {},
   "source": [
    "# 1.Int Data_Type (Immutable)"
   ]
  },
  {
   "cell_type": "code",
   "execution_count": 3,
   "id": "2663fc74",
   "metadata": {},
   "outputs": [
    {
     "name": "stdout",
     "output_type": "stream",
     "text": [
      "140711792552016:<class 'int'>\n",
      "140711792552080:<class 'int'>\n",
      "140711792552400:<class 'int'>\n"
     ]
    }
   ],
   "source": [
    "a=10;\n",
    "b=12;\n",
    "c=a+b;\n",
    "print(id(a),type(a),sep=':')\n",
    "print(id(b),type(b),sep=':')\n",
    "print(id(c),type(c),sep=':')"
   ]
  },
  {
   "cell_type": "code",
   "execution_count": null,
   "id": "83ebbb52",
   "metadata": {},
   "outputs": [],
   "source": [
    "#int_forms\n",
    "#example:\n",
    "         x=3 -----> Decimal_form\n",
    "         x=0B11---> Binary_form\n",
    "         x=0o123--> Octal_form\n",
    "         x=0XBee--> Hexa Decimal_form"
   ]
  },
  {
   "cell_type": "code",
   "execution_count": 42,
   "id": "c0f0c32b",
   "metadata": {},
   "outputs": [
    {
     "name": "stdout",
     "output_type": "stream",
     "text": [
      "3\n",
      "3\n",
      "83\n",
      "3054\n"
     ]
    }
   ],
   "source": [
    "i=3  \n",
    "j=0B11 \n",
    "k=0o123 \n",
    "l=0XBee\n",
    "print(i,j,k,l,sep=\"\\n\")"
   ]
  },
  {
   "cell_type": "code",
   "execution_count": null,
   "id": "53107be3",
   "metadata": {},
   "outputs": [],
   "source": [
    "#int_Base_Conversions\n",
    "#example: \n",
    "         x=0b1111  ----> bin()\n",
    "         x=0o12    ----> oct()\n",
    "         x=0x64    ----> hex()"
   ]
  },
  {
   "cell_type": "code",
   "execution_count": 46,
   "id": "7e106138",
   "metadata": {},
   "outputs": [
    {
     "name": "stdout",
     "output_type": "stream",
     "text": [
      "0b11110011--->bin()\n",
      "0o363--->oct()\n",
      "0xf3--->hex()\n"
     ]
    }
   ],
   "source": [
    "y=243\n",
    "print(bin(y),'bin()',sep='--->')\n",
    "print(oct(y),'oct()',sep='--->')\n",
    "print(hex(y),'hex()',sep='--->')"
   ]
  },
  {
   "cell_type": "markdown",
   "id": "ff1c7dcf",
   "metadata": {},
   "source": [
    "# 2.Float Data_Type (Immutable)"
   ]
  },
  {
   "cell_type": "code",
   "execution_count": 5,
   "id": "1e56feb5",
   "metadata": {},
   "outputs": [
    {
     "name": "stdout",
     "output_type": "stream",
     "text": [
      "1967041778544:<class 'float'>\n",
      "1967040915248:<class 'float'>\n",
      "1967041778320:<class 'float'>\n"
     ]
    }
   ],
   "source": [
    "# fixed notation\n",
    "a=10.6;\n",
    "b=12.8;\n",
    "c=a+b;\n",
    "print(id(a),type(a),sep=':')\n",
    "print(id(b),type(b),sep=':')\n",
    "print(id(c),type(c),sep=':')"
   ]
  },
  {
   "cell_type": "code",
   "execution_count": 7,
   "id": "79e11eac",
   "metadata": {},
   "outputs": [
    {
     "name": "stdout",
     "output_type": "stream",
     "text": [
      "1967041778352:<class 'float'>\n",
      "1967041141616:<class 'float'>\n",
      "1967056583472:<class 'float'>\n"
     ]
    }
   ],
   "source": [
    "# expo notation\n",
    "a=10e-2;\n",
    "b=1.2e1;\n",
    "c=a+b;\n",
    "print(id(a),type(a),sep=':')\n",
    "print(id(b),type(b),sep=':')\n",
    "print(id(c),type(c),sep=':')"
   ]
  },
  {
   "cell_type": "markdown",
   "id": "b6ec427d",
   "metadata": {},
   "source": [
    "# 3.Complex Data_Type (Immutable)"
   ]
  },
  {
   "cell_type": "code",
   "execution_count": 13,
   "id": "ff09c3f6",
   "metadata": {},
   "outputs": [
    {
     "name": "stdout",
     "output_type": "stream",
     "text": [
      "1967057301712:<class 'complex'>\n",
      "1967057301776:<class 'complex'>\n",
      "1967057301840:<class 'complex'>\n"
     ]
    }
   ],
   "source": [
    "a=10+6j;\n",
    "b=12+11j;\n",
    "c=a+b;\n",
    "print(id(a),type(a),sep=':')\n",
    "print(id(b),type(b),sep=':')\n",
    "print(id(c),type(c),sep=':')"
   ]
  },
  {
   "cell_type": "code",
   "execution_count": 11,
   "id": "25d7ca4e",
   "metadata": {},
   "outputs": [
    {
     "name": "stdout",
     "output_type": "stream",
     "text": [
      "1967057301552:<class 'complex'>\n",
      "1967057301680:<class 'complex'>\n",
      "1967056583632:<class 'complex'>\n"
     ]
    }
   ],
   "source": [
    "a=10.5+6.7j;\n",
    "b=12.8+11.2j;\n",
    "c=a+b;\n",
    "print(id(a),type(a),sep=':')\n",
    "print(id(b),type(b),sep=':')\n",
    "print(id(c),type(c),sep=':')"
   ]
  },
  {
   "cell_type": "code",
   "execution_count": 14,
   "id": "bbc44106",
   "metadata": {},
   "outputs": [
    {
     "name": "stdout",
     "output_type": "stream",
     "text": [
      "1967057302032:<class 'complex'>\n",
      "1967057301936:<class 'complex'>\n",
      "1967057301712:<class 'complex'>\n"
     ]
    }
   ],
   "source": [
    "a=10+6j;\n",
    "b=12.8+11j;\n",
    "c=a+b;\n",
    "print(id(a),type(a),sep=':')\n",
    "print(id(b),type(b),sep=':')\n",
    "print(id(c),type(c),sep=':')"
   ]
  },
  {
   "cell_type": "markdown",
   "id": "b4c2943f",
   "metadata": {},
   "source": [
    "# 4.Boolean Data_Type (Immutable)"
   ]
  },
  {
   "cell_type": "code",
   "execution_count": 107,
   "id": "efb51544",
   "metadata": {},
   "outputs": [
    {
     "name": "stdout",
     "output_type": "stream",
     "text": [
      "140711792269136:<class 'bool'>\n",
      "140711792269168:<class 'bool'>\n",
      "140711792551696:<class 'int'>\n",
      "0\n"
     ]
    }
   ],
   "source": [
    "a=True\n",
    "b=False\n",
    "c=a*b;\n",
    "print(id(a),type(a),sep=':')\n",
    "print(id(b),type(b),sep=':')\n",
    "print(id(c),type(c),sep=':')\n",
    "print(c)"
   ]
  },
  {
   "cell_type": "markdown",
   "id": "e6cffb3c",
   "metadata": {},
   "source": [
    "# 5.String Data_Type (Immutable)"
   ]
  },
  {
   "cell_type": "code",
   "execution_count": 31,
   "id": "b6277da8",
   "metadata": {},
   "outputs": [
    {
     "name": "stdout",
     "output_type": "stream",
     "text": [
      "1967057295920:<class 'str'>\n",
      "1967057294640:<class 'str'>\n",
      "1967057293360:<class 'str'>\n",
      "1967057352064:<class 'str'>\n",
      "NagaDurgaRao's Koradala\n"
     ]
    }
   ],
   "source": [
    "a='Naga'\n",
    "b='Durga'\n",
    "c=\"Rao's Koradala\"\n",
    "d=a+b+c\n",
    "print(id(a),type(a),sep=':')\n",
    "print(id(b),type(b),sep=':')\n",
    "print(id(c),type(c),sep=':')\n",
    "print(id(d),type(d),sep=':')\n",
    "print(d)"
   ]
  },
  {
   "cell_type": "code",
   "execution_count": 29,
   "id": "2406d7a3",
   "metadata": {},
   "outputs": [
    {
     "name": "stdout",
     "output_type": "stream",
     "text": [
      "1966972671216:<class 'str'>\n",
      "1967057348592:<class 'str'>\n",
      "1967057348912:<class 'str'>\n",
      "1966972343344:<class 'str'>\n",
      "1967057385520:<class 'str'>\n",
      "12.53+4.7jTrue\n"
     ]
    }
   ],
   "source": [
    "a=\"1'\n",
    "b=\"2.5\"\n",
    "c=\"3+4.7j\"\n",
    "d='True'\n",
    "e=a+b+c+d\n",
    "print(id(a),type(a),sep=':')\n",
    "print(id(b),type(b),sep=':')\n",
    "print(id(c),type(c),sep=':')\n",
    "print(id(d),type(d),sep=':')\n",
    "print(id(e),type(e),sep=':')\n",
    "print(e)"
   ]
  },
  {
   "cell_type": "code",
   "execution_count": 53,
   "id": "a67aff11",
   "metadata": {},
   "outputs": [
    {
     "name": "stdout",
     "output_type": "stream",
     "text": [
      "12\n",
      "N D R\n",
      "O-->O\n"
     ]
    }
   ],
   "source": [
    "#Index_String\n",
    "m=\"NAGADURGARAO\"\n",
    "print(len(m))\n",
    "print(m[0],m[4],m[9])\n",
    "print(m[11],m[-1],sep='-->')"
   ]
  },
  {
   "cell_type": "code",
   "execution_count": 73,
   "id": "f0e060b8",
   "metadata": {},
   "outputs": [
    {
     "name": "stdout",
     "output_type": "stream",
     "text": [
      "21\n",
      "NAGA DURGA RAO\n",
      "KORADALA\n",
      "NAGADURGARAO\n",
      "NAGADURGARAO KORADALA\n"
     ]
    }
   ],
   "source": [
    "#Slicing_String\n",
    "m=\"NAGADURGARAO KORADALA\"\n",
    "print(len(m))\n",
    "print(m[0:4],m[4:9],m[9:12])\n",
    "print(m[-8:])\n",
    "print(m[:12])\n",
    "print(m[:])"
   ]
  },
  {
   "cell_type": "markdown",
   "id": "4e8c6fb8",
   "metadata": {},
   "source": [
    "# 6.Bytes Data_Types (Immutable)"
   ]
  },
  {
   "cell_type": "code",
   "execution_count": 81,
   "id": "07a91ab2",
   "metadata": {},
   "outputs": [
    {
     "name": "stdout",
     "output_type": "stream",
     "text": [
      "<class 'bytes'>\n",
      "1 9 5\n",
      "b'\\x01\\x02\\x03\\x04\\x05\\x06\\x07'\n"
     ]
    }
   ],
   "source": [
    "p=[0,1,2,3,4,5,6,7,8,9]\n",
    "q=bytes(p)\n",
    "print(type(bytes(p)))\n",
    "print(q[1],q[-1],q[5])\n",
    "print(q[1:8])"
   ]
  },
  {
   "cell_type": "markdown",
   "id": "bc6b712f",
   "metadata": {},
   "source": [
    "# 7.ByteArray Data_Types (Mutable)"
   ]
  },
  {
   "cell_type": "code",
   "execution_count": 83,
   "id": "fb356a8e",
   "metadata": {},
   "outputs": [
    {
     "name": "stdout",
     "output_type": "stream",
     "text": [
      "<class 'bytearray'>\n",
      "1 9 5\n",
      "bytearray(b'\\x01\\x02\\x03\\x04\\x05\\x06\\x07')\n"
     ]
    }
   ],
   "source": [
    "p=[0,1,2,3,4,5,6,7,8,9]\n",
    "q=bytearray(p)\n",
    "print(type(bytearray(p)))\n",
    "print(q[1],q[-1],q[5])\n",
    "print(q[1:8])"
   ]
  },
  {
   "cell_type": "markdown",
   "id": "ed1aba1e",
   "metadata": {},
   "source": [
    "# 7.Range Data_Types (Immutable)"
   ]
  },
  {
   "cell_type": "code",
   "execution_count": 106,
   "id": "102714d1",
   "metadata": {},
   "outputs": [
    {
     "name": "stdout",
     "output_type": "stream",
     "text": [
      "0\n",
      "1\n",
      "2\n",
      "3\n",
      "4\n"
     ]
    }
   ],
   "source": [
    "p=range(5)\n",
    "for i in p:\n",
    "    print(i)"
   ]
  },
  {
   "cell_type": "code",
   "execution_count": 105,
   "id": "b103d8f6",
   "metadata": {},
   "outputs": [
    {
     "name": "stdout",
     "output_type": "stream",
     "text": [
      "0\n",
      "2\n",
      "4\n",
      "6\n",
      "8\n"
     ]
    }
   ],
   "source": [
    "p=range(0,10,2)\n",
    "for i in p:\n",
    "    print(i)"
   ]
  },
  {
   "cell_type": "markdown",
   "id": "2413557f",
   "metadata": {},
   "source": [
    "# Data_Types Conversions"
   ]
  },
  {
   "cell_type": "code",
   "execution_count": 39,
   "id": "0d9491c4",
   "metadata": {},
   "outputs": [
    {
     "name": "stdout",
     "output_type": "stream",
     "text": [
      "5.0:<class 'float'>\n",
      "7:<class 'int'>\n",
      "True:<class 'bool'>\n",
      "False:<class 'str'>\n",
      "0:<class 'int'>\n",
      "5:<class 'str'>\n",
      "(7.8+0j):<class 'complex'>\n",
      "0j:<class 'complex'>\n"
     ]
    }
   ],
   "source": [
    "a=5\n",
    "b=7.8\n",
    "c=9+4j\n",
    "d=False\n",
    "b1=int(b)\n",
    "a1=float(a)\n",
    "c1=bool(c)\n",
    "d1=str(d)\n",
    "#e1=int(c)\n",
    "f1=int(d)\n",
    "g1=str(a)\n",
    "h1=complex(b)\n",
    "i1=complex(d)\n",
    "print(a1,type(a1),sep=':')\n",
    "print(b1,type(b1),sep=':')\n",
    "print(c1,type(c1),sep=':')\n",
    "print(d1,type(d1),sep=':')\n",
    "#print(e1,type(e1),sep=':')\n",
    "print(f1,type(f1),sep=':')\n",
    "print(g1,type(g1),sep=':')\n",
    "print(h1,type(h1),sep=':')\n",
    "print(i1,type(i1),sep=':')"
   ]
  },
  {
   "cell_type": "code",
   "execution_count": null,
   "id": "82fa827f",
   "metadata": {},
   "outputs": [],
   "source": []
  }
 ],
 "metadata": {
  "kernelspec": {
   "display_name": "Python 3",
   "language": "python",
   "name": "python3"
  },
  "language_info": {
   "codemirror_mode": {
    "name": "ipython",
    "version": 3
   },
   "file_extension": ".py",
   "mimetype": "text/x-python",
   "name": "python",
   "nbconvert_exporter": "python",
   "pygments_lexer": "ipython3",
   "version": "3.8.8"
  }
 },
 "nbformat": 4,
 "nbformat_minor": 5
}
